{
 "cells": [
  {
   "cell_type": "markdown",
   "execution_count": null,
   "metadata": {},
   "outputs": [],
   "source": [
    "# [作業2]\n",
    "\n",
    "hotel booking demand\n",
    "\n",
    "1.分析不同因素下(例如不同時間、不同居住地的人)對飯店訂房的需求\n",
    "\n",
    "2.資料來自https://www.sciencedirect.com/science/article/pii/S2352340918315191\n",
    "\n",
    "3.結構化數據\n",
    "\n",
    "4.飯店房間被入住的平均絕對誤差，分析飯店訂房的旺季和淡季為何時，如何在淡季時提高入住率，該瞄準哪一種客群做行銷才能達到最大效益"
   ]
  }
 ],
 "metadata": {
  "anaconda-cloud": {},
  "kernelspec": {
   "display_name": "Python 3",
   "language": "python",
   "name": "python3"
  },
  "language_info": {
   "codemirror_mode": {
    "name": "ipython",
    "version": 3
   },
   "file_extension": ".py",
   "mimetype": "text/x-python",
   "name": "python",
   "nbconvert_exporter": "python",
   "pygments_lexer": "ipython3",
   "version": "3.7.4-final"
  }
 },
 "nbformat": 4,
 "nbformat_minor": 1
}