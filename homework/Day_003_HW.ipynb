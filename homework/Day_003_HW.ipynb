{
 "cells": [
  {
   "cell_type": "markdown",
   "execution_count": null,
   "metadata": {},
   "outputs": [],
   "source": [
    "# [作業3]\n",
    "\n",
    "想像你經營一個自由載客車隊，你希望能透過數據分析以提升業績，請你思考並描述你如何規劃整體的分析/解決方案：\n",
    "\n",
    "1. 核心問題為何 (tips：如何定義 「提升業績 & 你的假設」)\n",
    "\n",
    "2. 資料從何而來 (tips：哪些資料可能會對你想問的問題產生影響 & 資料如何蒐集)\n",
    "\n",
    "3. 蒐集而來的資料型態為何\n",
    "\n",
    "4. 你要回答的問題，其如何評估 (tips：你的假設如何驗證)\n",
    "\n",
    "1. 每輛車載客時間對空車時間的比值最大化，若出勤時間相同，所花的成本(油錢)也相同，此時若能最大化載客的時常，代表可以得到越多的淨收入，並將經濟收益最大化\n",
    "\n",
    "2. 客車在各路段載到客人的機率，即每個路段經過的客車總量以及空車比例，資料透過觀察抽樣或試營運收集\n",
    "\n",
    "3. 結構化數值\n",
    "\n",
    "4. 透過每個路段的客車總量及空車比例估算每個路段的最大需求量及被其他載客車隊瓜分利益的風險，再將定量的客車依照最大需求量與風險分派到各路段"
   ]
  }
 ],
 "metadata": {
  "anaconda-cloud": {},
  "kernelspec": {
   "display_name": "Python 3",
   "language": "python",
   "name": "python3"
  },
  "language_info": {
   "codemirror_mode": {
    "name": "ipython",
    "version": 3
   },
   "file_extension": ".py",
   "mimetype": "text/x-python",
   "name": "python",
   "nbconvert_exporter": "python",
   "pygments_lexer": "ipython3",
   "version": "3.7.4-final"
  }
 },
 "nbformat": 4,
 "nbformat_minor": 1
}