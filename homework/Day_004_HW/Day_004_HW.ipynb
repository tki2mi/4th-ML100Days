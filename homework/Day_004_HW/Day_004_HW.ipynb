{
 "cells": [
  {
   "cell_type": "markdown",
   "metadata": {},
   "source": [
    "## 練習時間\n",
    "資料的操作有很多，接下來的馬拉松中我們會介紹常被使用到的操作，參加者不妨先自行想像一下，第一次看到資料，我們一般會想知道什麼訊息？\n",
    "\n",
    "#### Ex: 如何知道資料的 row 數以及 column 數、有什麼欄位、多少欄位、如何截取部分的資料等等\n",
    "\n",
    "有了對資料的好奇之後，我們又怎麼通過程式碼來達成我們的目的呢？\n",
    "\n",
    "#### 可參考該[基礎教材](https://bookdata.readthedocs.io/en/latest/base/01_pandas.html#DataFrame-%E5%85%A5%E9%97%A8)或自行 google"
   ]
  },
  {
   "cell_type": "markdown",
   "metadata": {},
   "source": [
    "# [作業目標]\n",
    "- 熟悉更多的 Python 資料操作"
   ]
  },
  {
   "cell_type": "markdown",
   "metadata": {},
   "source": [
    "# [作業重點]\n",
    "- 列出資料的大小 (In[4], Hint : shape)\n",
    "- 列出所有欄位 (In[5], 有多種寫法)\n",
    "- 擷取部分資料 (In[6], Hint : loc 或 iloc)"
   ]
  },
  {
   "cell_type": "code",
   "execution_count": 80,
   "metadata": {},
   "outputs": [],
   "source": [
    "import os\n",
    "import numpy as np\n",
    "import pandas as pd"
   ]
  },
  {
   "cell_type": "code",
   "execution_count": 81,
   "metadata": {},
   "outputs": [
    {
     "name": "stdout",
     "output_type": "stream",
     "text": "C:\\Users\\石翊鵬\n"
    }
   ],
   "source": [
    "cwd = os.getcwd()\n",
    "print(cwd)"
   ]
  },
  {
   "cell_type": "code",
   "execution_count": 82,
   "metadata": {},
   "outputs": [],
   "source": [
    "# 設定 data_path\n",
    "dir_data = './data/'"
   ]
  },
  {
   "cell_type": "code",
   "execution_count": 83,
   "metadata": {},
   "outputs": [
    {
     "name": "stdout",
     "output_type": "stream",
     "text": "Path of read in data: ./data/application_train.csv\n"
    }
   ],
   "source": [
    "f_app = os.path.join(dir_data, 'application_train.csv')\n",
    "print('Path of read in data: %s' % (f_app))\n",
    "app_train = pd.read_csv(f_app)"
   ]
  },
  {
   "cell_type": "markdown",
   "metadata": {},
   "source": [
    "### 如果沒有想法，可以先嘗試找出剛剛例子中提到的問題的答案\n",
    "#### 資料的 row 數以及 column 數"
   ]
  },
  {
   "cell_type": "code",
   "execution_count": 84,
   "metadata": {},
   "outputs": [
    {
     "data": {
      "text/plain": "(307511, 122)"
     },
     "execution_count": 84,
     "metadata": {},
     "output_type": "execute_result"
    }
   ],
   "source": [
    "app_train.shape"
   ]
  },
  {
   "cell_type": "markdown",
   "metadata": {},
   "source": [
    "#### 列出所有欄位"
   ]
  },
  {
   "cell_type": "code",
   "execution_count": 85,
   "metadata": {},
   "outputs": [
    {
     "name": "stdout",
     "output_type": "stream",
     "text": "SK_ID_CURR\nTARGET\nNAME_CONTRACT_TYPE\nCODE_GENDER\nFLAG_OWN_CAR\nFLAG_OWN_REALTY\nCNT_CHILDREN\nAMT_INCOME_TOTAL\nAMT_CREDIT\nAMT_ANNUITY\nAMT_GOODS_PRICE\nNAME_TYPE_SUITE\nNAME_INCOME_TYPE\nNAME_EDUCATION_TYPE\nNAME_FAMILY_STATUS\nNAME_HOUSING_TYPE\nREGION_POPULATION_RELATIVE\nDAYS_BIRTH\nDAYS_EMPLOYED\nDAYS_REGISTRATION\nDAYS_ID_PUBLISH\nOWN_CAR_AGE\nFLAG_MOBIL\nFLAG_EMP_PHONE\nFLAG_WORK_PHONE\nFLAG_CONT_MOBILE\nFLAG_PHONE\nFLAG_EMAIL\nOCCUPATION_TYPE\nCNT_FAM_MEMBERS\nREGION_RATING_CLIENT\nREGION_RATING_CLIENT_W_CITY\nWEEKDAY_APPR_PROCESS_START\nHOUR_APPR_PROCESS_START\nREG_REGION_NOT_LIVE_REGION\nREG_REGION_NOT_WORK_REGION\nLIVE_REGION_NOT_WORK_REGION\nREG_CITY_NOT_LIVE_CITY\nREG_CITY_NOT_WORK_CITY\nLIVE_CITY_NOT_WORK_CITY\nORGANIZATION_TYPE\nEXT_SOURCE_1\nEXT_SOURCE_2\nEXT_SOURCE_3\nAPARTMENTS_AVG\nBASEMENTAREA_AVG\nYEARS_BEGINEXPLUATATION_AVG\nYEARS_BUILD_AVG\nCOMMONAREA_AVG\nELEVATORS_AVG\nENTRANCES_AVG\nFLOORSMAX_AVG\nFLOORSMIN_AVG\nLANDAREA_AVG\nLIVINGAPARTMENTS_AVG\nLIVINGAREA_AVG\nNONLIVINGAPARTMENTS_AVG\nNONLIVINGAREA_AVG\nAPARTMENTS_MODE\nBASEMENTAREA_MODE\nYEARS_BEGINEXPLUATATION_MODE\nYEARS_BUILD_MODE\nCOMMONAREA_MODE\nELEVATORS_MODE\nENTRANCES_MODE\nFLOORSMAX_MODE\nFLOORSMIN_MODE\nLANDAREA_MODE\nLIVINGAPARTMENTS_MODE\nLIVINGAREA_MODE\nNONLIVINGAPARTMENTS_MODE\nNONLIVINGAREA_MODE\nAPARTMENTS_MEDI\nBASEMENTAREA_MEDI\nYEARS_BEGINEXPLUATATION_MEDI\nYEARS_BUILD_MEDI\nCOMMONAREA_MEDI\nELEVATORS_MEDI\nENTRANCES_MEDI\nFLOORSMAX_MEDI\nFLOORSMIN_MEDI\nLANDAREA_MEDI\nLIVINGAPARTMENTS_MEDI\nLIVINGAREA_MEDI\nNONLIVINGAPARTMENTS_MEDI\nNONLIVINGAREA_MEDI\nFONDKAPREMONT_MODE\nHOUSETYPE_MODE\nTOTALAREA_MODE\nWALLSMATERIAL_MODE\nEMERGENCYSTATE_MODE\nOBS_30_CNT_SOCIAL_CIRCLE\nDEF_30_CNT_SOCIAL_CIRCLE\nOBS_60_CNT_SOCIAL_CIRCLE\nDEF_60_CNT_SOCIAL_CIRCLE\nDAYS_LAST_PHONE_CHANGE\nFLAG_DOCUMENT_2\nFLAG_DOCUMENT_3\nFLAG_DOCUMENT_4\nFLAG_DOCUMENT_5\nFLAG_DOCUMENT_6\nFLAG_DOCUMENT_7\nFLAG_DOCUMENT_8\nFLAG_DOCUMENT_9\nFLAG_DOCUMENT_10\nFLAG_DOCUMENT_11\nFLAG_DOCUMENT_12\nFLAG_DOCUMENT_13\nFLAG_DOCUMENT_14\nFLAG_DOCUMENT_15\nFLAG_DOCUMENT_16\nFLAG_DOCUMENT_17\nFLAG_DOCUMENT_18\nFLAG_DOCUMENT_19\nFLAG_DOCUMENT_20\nFLAG_DOCUMENT_21\nAMT_REQ_CREDIT_BUREAU_HOUR\nAMT_REQ_CREDIT_BUREAU_DAY\nAMT_REQ_CREDIT_BUREAU_WEEK\nAMT_REQ_CREDIT_BUREAU_MON\nAMT_REQ_CREDIT_BUREAU_QRT\nAMT_REQ_CREDIT_BUREAU_YEAR\n"
    }
   ],
   "source": [
    "columns = app_train.columns\n",
    "for index in range(len(columns)):\n",
    "    print (columns[index])"
   ]
  },
  {
   "cell_type": "markdown",
   "metadata": {},
   "source": [
    "#### 截取部分資料"
   ]
  },
  {
   "cell_type": "code",
   "execution_count": 86,
   "metadata": {},
   "outputs": [
    {
     "data": {
      "text/html": "<div>\n<style scoped>\n    .dataframe tbody tr th:only-of-type {\n        vertical-align: middle;\n    }\n\n    .dataframe tbody tr th {\n        vertical-align: top;\n    }\n\n    .dataframe thead th {\n        text-align: right;\n    }\n</style>\n<table border=\"1\" class=\"dataframe\">\n  <thead>\n    <tr style=\"text-align: right;\">\n      <th></th>\n      <th>FLAG_CONT_MOBILE</th>\n      <th>FLAG_PHONE</th>\n      <th>FLAG_EMAIL</th>\n      <th>OCCUPATION_TYPE</th>\n      <th>CNT_FAM_MEMBERS</th>\n      <th>REGION_RATING_CLIENT</th>\n      <th>REGION_RATING_CLIENT_W_CITY</th>\n      <th>WEEKDAY_APPR_PROCESS_START</th>\n      <th>HOUR_APPR_PROCESS_START</th>\n      <th>REG_REGION_NOT_LIVE_REGION</th>\n    </tr>\n  </thead>\n  <tbody>\n    <tr>\n      <td>30001</td>\n      <td>1</td>\n      <td>0</td>\n      <td>0</td>\n      <td>Sales staff</td>\n      <td>2.0</td>\n      <td>2</td>\n      <td>2</td>\n      <td>MONDAY</td>\n      <td>9</td>\n      <td>0</td>\n    </tr>\n    <tr>\n      <td>30002</td>\n      <td>1</td>\n      <td>1</td>\n      <td>1</td>\n      <td>Accountants</td>\n      <td>4.0</td>\n      <td>1</td>\n      <td>1</td>\n      <td>SUNDAY</td>\n      <td>10</td>\n      <td>0</td>\n    </tr>\n    <tr>\n      <td>30003</td>\n      <td>1</td>\n      <td>0</td>\n      <td>0</td>\n      <td>Laborers</td>\n      <td>2.0</td>\n      <td>2</td>\n      <td>2</td>\n      <td>TUESDAY</td>\n      <td>10</td>\n      <td>0</td>\n    </tr>\n    <tr>\n      <td>30004</td>\n      <td>1</td>\n      <td>0</td>\n      <td>0</td>\n      <td>Core staff</td>\n      <td>2.0</td>\n      <td>2</td>\n      <td>2</td>\n      <td>THURSDAY</td>\n      <td>14</td>\n      <td>0</td>\n    </tr>\n    <tr>\n      <td>30005</td>\n      <td>1</td>\n      <td>1</td>\n      <td>0</td>\n      <td>Laborers</td>\n      <td>4.0</td>\n      <td>2</td>\n      <td>2</td>\n      <td>FRIDAY</td>\n      <td>13</td>\n      <td>0</td>\n    </tr>\n    <tr>\n      <td>30006</td>\n      <td>1</td>\n      <td>0</td>\n      <td>0</td>\n      <td>Sales staff</td>\n      <td>2.0</td>\n      <td>1</td>\n      <td>1</td>\n      <td>THURSDAY</td>\n      <td>16</td>\n      <td>1</td>\n    </tr>\n    <tr>\n      <td>30007</td>\n      <td>1</td>\n      <td>1</td>\n      <td>0</td>\n      <td>Sales staff</td>\n      <td>4.0</td>\n      <td>2</td>\n      <td>2</td>\n      <td>FRIDAY</td>\n      <td>14</td>\n      <td>0</td>\n    </tr>\n    <tr>\n      <td>30008</td>\n      <td>1</td>\n      <td>0</td>\n      <td>0</td>\n      <td>Private service staff</td>\n      <td>2.0</td>\n      <td>2</td>\n      <td>2</td>\n      <td>FRIDAY</td>\n      <td>15</td>\n      <td>0</td>\n    </tr>\n    <tr>\n      <td>30009</td>\n      <td>1</td>\n      <td>0</td>\n      <td>0</td>\n      <td>Core staff</td>\n      <td>4.0</td>\n      <td>2</td>\n      <td>2</td>\n      <td>WEDNESDAY</td>\n      <td>11</td>\n      <td>0</td>\n    </tr>\n    <tr>\n      <td>30010</td>\n      <td>1</td>\n      <td>1</td>\n      <td>0</td>\n      <td>Medicine staff</td>\n      <td>2.0</td>\n      <td>2</td>\n      <td>2</td>\n      <td>SATURDAY</td>\n      <td>12</td>\n      <td>0</td>\n    </tr>\n    <tr>\n      <td>30011</td>\n      <td>1</td>\n      <td>1</td>\n      <td>1</td>\n      <td>Drivers</td>\n      <td>2.0</td>\n      <td>2</td>\n      <td>2</td>\n      <td>WEDNESDAY</td>\n      <td>10</td>\n      <td>0</td>\n    </tr>\n    <tr>\n      <td>30012</td>\n      <td>1</td>\n      <td>0</td>\n      <td>1</td>\n      <td>High skill tech staff</td>\n      <td>1.0</td>\n      <td>1</td>\n      <td>1</td>\n      <td>TUESDAY</td>\n      <td>13</td>\n      <td>0</td>\n    </tr>\n    <tr>\n      <td>30013</td>\n      <td>1</td>\n      <td>0</td>\n      <td>1</td>\n      <td>Laborers</td>\n      <td>2.0</td>\n      <td>2</td>\n      <td>2</td>\n      <td>MONDAY</td>\n      <td>10</td>\n      <td>0</td>\n    </tr>\n    <tr>\n      <td>30014</td>\n      <td>1</td>\n      <td>0</td>\n      <td>0</td>\n      <td>NaN</td>\n      <td>2.0</td>\n      <td>3</td>\n      <td>3</td>\n      <td>SATURDAY</td>\n      <td>9</td>\n      <td>0</td>\n    </tr>\n    <tr>\n      <td>30015</td>\n      <td>1</td>\n      <td>1</td>\n      <td>0</td>\n      <td>Core staff</td>\n      <td>2.0</td>\n      <td>2</td>\n      <td>2</td>\n      <td>WEDNESDAY</td>\n      <td>15</td>\n      <td>0</td>\n    </tr>\n    <tr>\n      <td>30016</td>\n      <td>1</td>\n      <td>0</td>\n      <td>0</td>\n      <td>Laborers</td>\n      <td>2.0</td>\n      <td>2</td>\n      <td>2</td>\n      <td>THURSDAY</td>\n      <td>11</td>\n      <td>0</td>\n    </tr>\n    <tr>\n      <td>30017</td>\n      <td>1</td>\n      <td>0</td>\n      <td>0</td>\n      <td>Drivers</td>\n      <td>3.0</td>\n      <td>3</td>\n      <td>3</td>\n      <td>TUESDAY</td>\n      <td>18</td>\n      <td>0</td>\n    </tr>\n    <tr>\n      <td>30018</td>\n      <td>1</td>\n      <td>0</td>\n      <td>0</td>\n      <td>Laborers</td>\n      <td>3.0</td>\n      <td>2</td>\n      <td>2</td>\n      <td>MONDAY</td>\n      <td>9</td>\n      <td>0</td>\n    </tr>\n    <tr>\n      <td>30019</td>\n      <td>1</td>\n      <td>0</td>\n      <td>0</td>\n      <td>Sales staff</td>\n      <td>2.0</td>\n      <td>1</td>\n      <td>1</td>\n      <td>THURSDAY</td>\n      <td>11</td>\n      <td>0</td>\n    </tr>\n    <tr>\n      <td>30020</td>\n      <td>1</td>\n      <td>0</td>\n      <td>0</td>\n      <td>NaN</td>\n      <td>2.0</td>\n      <td>3</td>\n      <td>3</td>\n      <td>FRIDAY</td>\n      <td>11</td>\n      <td>0</td>\n    </tr>\n  </tbody>\n</table>\n</div>",
      "text/plain": "       FLAG_CONT_MOBILE  FLAG_PHONE  FLAG_EMAIL        OCCUPATION_TYPE  \\\n30001                 1           0           0            Sales staff   \n30002                 1           1           1            Accountants   \n30003                 1           0           0               Laborers   \n30004                 1           0           0             Core staff   \n30005                 1           1           0               Laborers   \n30006                 1           0           0            Sales staff   \n30007                 1           1           0            Sales staff   \n30008                 1           0           0  Private service staff   \n30009                 1           0           0             Core staff   \n30010                 1           1           0         Medicine staff   \n30011                 1           1           1                Drivers   \n30012                 1           0           1  High skill tech staff   \n30013                 1           0           1               Laborers   \n30014                 1           0           0                    NaN   \n30015                 1           1           0             Core staff   \n30016                 1           0           0               Laborers   \n30017                 1           0           0                Drivers   \n30018                 1           0           0               Laborers   \n30019                 1           0           0            Sales staff   \n30020                 1           0           0                    NaN   \n\n       CNT_FAM_MEMBERS  REGION_RATING_CLIENT  REGION_RATING_CLIENT_W_CITY  \\\n30001              2.0                     2                            2   \n30002              4.0                     1                            1   \n30003              2.0                     2                            2   \n30004              2.0                     2                            2   \n30005              4.0                     2                            2   \n30006              2.0                     1                            1   \n30007              4.0                     2                            2   \n30008              2.0                     2                            2   \n30009              4.0                     2                            2   \n30010              2.0                     2                            2   \n30011              2.0                     2                            2   \n30012              1.0                     1                            1   \n30013              2.0                     2                            2   \n30014              2.0                     3                            3   \n30015              2.0                     2                            2   \n30016              2.0                     2                            2   \n30017              3.0                     3                            3   \n30018              3.0                     2                            2   \n30019              2.0                     1                            1   \n30020              2.0                     3                            3   \n\n      WEEKDAY_APPR_PROCESS_START  HOUR_APPR_PROCESS_START  \\\n30001                     MONDAY                        9   \n30002                     SUNDAY                       10   \n30003                    TUESDAY                       10   \n30004                   THURSDAY                       14   \n30005                     FRIDAY                       13   \n30006                   THURSDAY                       16   \n30007                     FRIDAY                       14   \n30008                     FRIDAY                       15   \n30009                  WEDNESDAY                       11   \n30010                   SATURDAY                       12   \n30011                  WEDNESDAY                       10   \n30012                    TUESDAY                       13   \n30013                     MONDAY                       10   \n30014                   SATURDAY                        9   \n30015                  WEDNESDAY                       15   \n30016                   THURSDAY                       11   \n30017                    TUESDAY                       18   \n30018                     MONDAY                        9   \n30019                   THURSDAY                       11   \n30020                     FRIDAY                       11   \n\n       REG_REGION_NOT_LIVE_REGION  \n30001                           0  \n30002                           0  \n30003                           0  \n30004                           0  \n30005                           0  \n30006                           1  \n30007                           0  \n30008                           0  \n30009                           0  \n30010                           0  \n30011                           0  \n30012                           0  \n30013                           0  \n30014                           0  \n30015                           0  \n30016                           0  \n30017                           0  \n30018                           0  \n30019                           0  \n30020                           0  "
     },
     "execution_count": 86,
     "metadata": {},
     "output_type": "execute_result"
    }
   ],
   "source": [
    "app_train.iloc[30001 : 30021, 25 : 35]"
   ]
  },
  {
   "cell_type": "markdown",
   "metadata": {},
   "source": [
    "#### 還有各種數之不盡的資料操作，重點還是取決於實務中遇到的狀況和你想問的問題，在馬拉松中我們也會陸續提到更多例子"
   ]
  },
  {
   "cell_type": "code",
   "execution_count": null,
   "metadata": {
    "collapsed": true
   },
   "outputs": [],
   "source": []
  }
 ],
 "metadata": {
  "kernelspec": {
   "display_name": "Python 3",
   "language": "python",
   "name": "python3"
  },
  "language_info": {
   "codemirror_mode": {
    "name": "ipython",
    "version": 3
   },
   "file_extension": ".py",
   "mimetype": "text/x-python",
   "name": "python",
   "nbconvert_exporter": "python",
   "pygments_lexer": "ipython3",
   "version": "3.7.4-final"
  }
 },
 "nbformat": 4,
 "nbformat_minor": 2
}